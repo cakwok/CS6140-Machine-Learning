{
  "nbformat": 4,
  "nbformat_minor": 0,
  "metadata": {
    "colab": {
      "name": "Assignment4 - Q1 EM Algorithm.ipynb",
      "provenance": [],
      "collapsed_sections": [],
      "mount_file_id": "11b3p4FJAwj1pU4PDFKydSY1PIJrz8N7v",
      "authorship_tag": "ABX9TyPGSAwIdONMAaRR/47wAvYn"
    },
    "kernelspec": {
      "name": "python3",
      "display_name": "Python 3"
    },
    "language_info": {
      "name": "python"
    }
  },
  "cells": [
    {
      "cell_type": "code",
      "execution_count": 283,
      "metadata": {
        "colab": {
          "base_uri": "https://localhost:8080/",
          "height": 35
        },
        "id": "UJvVNsx04wfj",
        "outputId": "081ded99-0331-4e07-c2fb-d068845aeb64"
      },
      "outputs": [
        {
          "output_type": "execute_result",
          "data": {
            "text/plain": [
              "'\\nCS6140 Assignment 4\\nJul 14 2022\\nWing Man, Kwok\\n'"
            ],
            "application/vnd.google.colaboratory.intrinsic+json": {
              "type": "string"
            }
          },
          "metadata": {},
          "execution_count": 283
        }
      ],
      "source": [
        "'''\n",
        "CS6140 Assignment 4\n",
        "Jul 14 2022\n",
        "Wing Man, Kwok\n",
        "'''"
      ]
    },
    {
      "cell_type": "code",
      "source": [
        "import numpy as np\n",
        "import matplotlib.pyplot as plt\n",
        "import seaborn as sns\n",
        "from scipy import stats\n",
        "from random import uniform                       #for the command \"uniform\"\n",
        "from math import sqrt, log, exp, pi"
      ],
      "metadata": {
        "id": "s2DxO-Pc5C81"
      },
      "execution_count": 284,
      "outputs": []
    },
    {
      "cell_type": "code",
      "source": [
        "#Q1.1  Use a single Gaussion to estimate and create a plot\n",
        "#Model univariate Gaussian\n",
        "\n",
        "class Gaussian:\n",
        "\n",
        "  def __init__(self, mu, sigma):\n",
        "\n",
        "      self.mu = mu\n",
        "      self.sigma = sigma\n",
        "  \n",
        "  def pdf(self, datum):   #create probability density function\n",
        "\n",
        "      gassian_exp = (datum - self.mu) / abs(self.sigma)    #Probability of a data point given the current parameters\n",
        "      y = (1 / (sqrt(2 * pi) * abs(self.sigma))) * exp(- gassian_exp * gassian_exp / 2)\n",
        "\n",
        "      return y"
      ],
      "metadata": {
        "id": "uzyhNo7z5I1l"
      },
      "execution_count": 285,
      "outputs": []
    },
    {
      "cell_type": "code",
      "source": [
        "#Q1.2 Use a 2 Gaussian mixture model to estimate and create a plot\n",
        "#Model mixture of two univariate Gaussians and their EM estimation\n",
        "\n",
        "class GaussianMixture_self:\n",
        "  \n",
        "  def __init__(self, data, mu_min, mu_max, sigma_min=1, sigma_max=1, mix=.5):\n",
        "    self.data = data\n",
        "    self.guassian_model_1 = Gaussian(uniform(mu_min, mu_max), uniform(sigma_min, sigma_max))   #generate 2 gaussian distribution with fed x, sigma, mu\n",
        "    self.guassian_model_2 = Gaussian(uniform(mu_min, mu_max), uniform(sigma_min, sigma_max))\n",
        "    self.mix = mix                                                                      #generate how much to overlap 2 gaussians\n",
        "    \n",
        "  def Estep(self):            #Perform an E(stimation)-step, assign each point to gaussian 1 or 2 with a percentage\n",
        "\n",
        "    self.loglikelihood = 0\n",
        "\n",
        "    for data_point in self.data:\n",
        "\n",
        "      guassian_distribution_1 = self.guassian_model_1.pdf(data_point) \n",
        "      guassian_distribution_2 = self.guassian_model_2.pdf(data_point)\n",
        "\n",
        "      numerator_1 = guassian_distribution_1 * self.mix  \n",
        "      numerator_2 = guassian_distribution_2  * (1 - self.mix)  \n",
        "\n",
        "      posterior_1 = guassian_distribution_1 * self.mix / (numerator_1 + numerator_2)\n",
        "      posterior_2 = guassian_distribution_1 * self.mix / (numerator_1 + numerator_2)\n",
        "\n",
        "      self.loglikelihood += log(posterior_1 + posterior_2)\n",
        "\n",
        "      yield (numerator_1, numerator_2)\n",
        "\n",
        "  def Mstep(self, weights):   #Perform an M(aximization)-step\"\n",
        "\n",
        "    (Posteriors_1, Posteriors_2) = zip(*weights) \n",
        "\n",
        "    self.guassian_model_1.mu = sum(Posteriors_1 * data) / sum(Posteriors_1)\n",
        "    self.guassian_model_2.mu = sum(Posteriors_2 * data) / sum(Posteriors_2)\n",
        "\n",
        "    print(\"sum(Posteriors_sum_1 * data) / sum(Posteriors_1)\", sum(Posteriors_1 * data) / sum(Posteriors_1))\n",
        "    print(\"sum(w * d for (w, d) in zip(Posteriors_1, data) / sum(Posteriors_1)\", sum(w * d for (w, d) in zip(Posteriors_1, data)) / sum(Posteriors_1))\n",
        "\n",
        "    self.guassian_model_1.sigma = sqrt(sum(Posteriors_1 * (( data - self.guassian_model_1.mu) ** 2) / sum(Posteriors_1)))\n",
        "    self.guassian_model_2.sigma = sqrt(sum(Posteriors_2 * (( data - self.guassian_model_2.mu) ** 2) / sum(Posteriors_2)))\n",
        "\n",
        "    n = len(data)\n",
        "    self.mix = sum(Posteriors_1) / n\n",
        "\n",
        "  def iterate(self, N=1, verbose=False):    #Perform N iterations, then compute log-likelihood\"\n",
        "     \n",
        "    for i in range(1, N+1):\n",
        "      self.Mstep(self.Estep())\n",
        "    \n",
        "    self.Estep()\n",
        "\n",
        "  def pdf(self, x):\n",
        "    pass\n",
        "\n",
        "  def __str__(self):\n",
        "    return 'Mixture: {0}, {1}, mix={2:.03})'.format(self.guassian_model_1, self.guassian_model_2, self.mix)\n"
      ],
      "metadata": {
        "id": "TUCpvhYJeiPJ"
      },
      "execution_count": 286,
      "outputs": []
    },
    {
      "cell_type": "code",
      "source": [
        "random_seed=36788765\n",
        "np.random.seed(random_seed)\n",
        "\n",
        "Mean1 = 2.0  # Input parameter, mean of first normal probability distribution\n",
        "Standard_dev1 = 4.0 #@param {type:\"number\"}\n",
        "Mean2 = 9.0 # Input parameter, mean of second normal  probability distribution\n",
        "Standard_dev2 = 2.0 #@param {type:\"number\"}\n",
        "\n",
        "# generate data\n",
        "y1 = np.random.normal(Mean1, Standard_dev1, 1000)\n",
        "y2 = np.random.normal(Mean2, Standard_dev2, 500)\n",
        "data=np.append(y1,y2)\n",
        "\n",
        "x = np.linspace(min(data), max(data), 2000)  \n",
        "\n",
        "#Fit datapoint into Gaussian\n",
        "fit_gaussian = Gaussian(np.mean(data), np.std(data))\n",
        "print(\"Mu:\", fit_gaussian.mu, \"Sigma:\", fit_gaussian.sigma)\n",
        "single_gaussian = stats.norm(fit_gaussian.mu, fit_gaussian.sigma).pdf(x)\n",
        "\n",
        "#Plot probability distribution \n",
        "sns.set_style(\"white\")\n",
        "sns.distplot(data, bins=20, kde=False, norm_hist=True)\n",
        "plt.plot(x, single_gaussian, label='single gaussian')\n",
        "\n",
        "n_iterations = 10\n",
        "mix = GaussianMixture_self(data, mu_min=min(data), mu_max = max(data))\n",
        "\n",
        "for _ in range (n_iterations):\n",
        "  try:\n",
        "    mix.iterate(verbose = True)\n",
        "  except (ZeroDivisionError, ValueError, RuntimeWarning):\n",
        "    print(\"one less\")\n",
        "    pass\n",
        "\n"
      ],
      "metadata": {
        "colab": {
          "base_uri": "https://localhost:8080/",
          "height": 696
        },
        "id": "R--sM0JP44gd",
        "outputId": "a496c413-4807-4624-95c1-938987b74f48"
      },
      "execution_count": 287,
      "outputs": [
        {
          "output_type": "stream",
          "name": "stdout",
          "text": [
            "Mu: 4.449795287015505 Sigma: 4.750714449353187\n",
            "sum(Posteriors_sum_1 * data) / sum(Posteriors_1) -1.7031570471856605\n",
            "sum(w * d for (w, d) in zip(Posteriors_1, data) / sum(Posteriors_1) -1.7031570471856605\n",
            "sum(Posteriors_sum_1 * data) / sum(Posteriors_1) -1.5149054561345248\n",
            "sum(w * d for (w, d) in zip(Posteriors_1, data) / sum(Posteriors_1) -1.5149054561345248\n",
            "sum(Posteriors_sum_1 * data) / sum(Posteriors_1) -1.3427463589883717\n",
            "sum(w * d for (w, d) in zip(Posteriors_1, data) / sum(Posteriors_1) -1.3427463589883717\n",
            "sum(Posteriors_sum_1 * data) / sum(Posteriors_1) -1.182890349605889\n",
            "sum(w * d for (w, d) in zip(Posteriors_1, data) / sum(Posteriors_1) -1.182890349605889\n",
            "sum(Posteriors_sum_1 * data) / sum(Posteriors_1) -1.0325773164573204\n",
            "sum(w * d for (w, d) in zip(Posteriors_1, data) / sum(Posteriors_1) -1.0325773164573204\n",
            "sum(Posteriors_sum_1 * data) / sum(Posteriors_1) -0.8896716885363627\n",
            "sum(w * d for (w, d) in zip(Posteriors_1, data) / sum(Posteriors_1) -0.8896716885363627\n",
            "sum(Posteriors_sum_1 * data) / sum(Posteriors_1) -0.752540155731057\n",
            "sum(w * d for (w, d) in zip(Posteriors_1, data) / sum(Posteriors_1) -0.752540155731057\n"
          ]
        },
        {
          "output_type": "stream",
          "name": "stderr",
          "text": [
            "/usr/local/lib/python3.7/dist-packages/seaborn/distributions.py:2619: FutureWarning: `distplot` is a deprecated function and will be removed in a future version. Please adapt your code to use either `displot` (a figure-level function with similar flexibility) or `histplot` (an axes-level function for histograms).\n",
            "  warnings.warn(msg, FutureWarning)\n"
          ]
        },
        {
          "output_type": "stream",
          "name": "stdout",
          "text": [
            "sum(Posteriors_sum_1 * data) / sum(Posteriors_1) -0.6200564279062212\n",
            "sum(w * d for (w, d) in zip(Posteriors_1, data) / sum(Posteriors_1) -0.6200564279062212\n",
            "sum(Posteriors_sum_1 * data) / sum(Posteriors_1) -0.49161717532507987\n",
            "sum(w * d for (w, d) in zip(Posteriors_1, data) / sum(Posteriors_1) -0.49161717532507987\n",
            "sum(Posteriors_sum_1 * data) / sum(Posteriors_1) -0.3671074018584164\n",
            "sum(w * d for (w, d) in zip(Posteriors_1, data) / sum(Posteriors_1) -0.3671074018584164\n"
          ]
        },
        {
          "output_type": "display_data",
          "data": {
            "text/plain": [
              "<Figure size 432x288 with 1 Axes>"
            ],
            "image/png": "[encoded data removed]"
          },
          "metadata": {}
        }
      ]
    }
  ]
}
