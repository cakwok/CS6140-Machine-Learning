{
  "nbformat": 4,
  "nbformat_minor": 0,
  "metadata": {
    "colab": {
      "name": "1.1.ipynb",
      "provenance": [],
      "collapsed_sections": [],
      "mount_file_id": "1ZSVS6rczYdSYi11IxinLuXV2dSKys4-l",
      "authorship_tag": "ABX9TyMolFiqgaXnXq0fazXKBhkx",
      "include_colab_link": true
    },
    "kernelspec": {
      "name": "python3",
      "display_name": "Python 3"
    },
    "language_info": {
      "name": "python"
    }
  },
  "cells": [
    {
      "cell_type": "markdown",
      "metadata": {
        "id": "view-in-github",
        "colab_type": "text"
      },
      "source": [
        "<a href=\"https://colab.research.google.com/github/cakwok/CS6140-Machine-Learning/blob/main/1_1.ipynb\" target=\"_parent\"><img src=\"https://colab.research.google.com/assets/colab-badge.svg\" alt=\"Open In Colab\"/></a>"
      ]
    },
    {
      "cell_type": "code",
      "execution_count": 263,
      "metadata": {
        "id": "6H1blSxuZRLN"
      },
      "outputs": [],
      "source": [
        "import numpy as np\n",
        "import pandas as pd\n",
        "from sklearn.model_selection import train_test_split  #Split training and testing data"
      ]
    },
    {
      "cell_type": "code",
      "source": [
        "class ClassificationDecisionTree:\n",
        "    def __init__(self, max_depth=10, min_samples=2):\n",
        "        self.max_depth = max_depth\n",
        "        self.min_samples = min_samples\n",
        "        self.root = None\n",
        "\n",
        "    def _is_finished(self, depth):\n",
        "        if (depth >= self.max_depth\n",
        "            or self.n_class_labels == 1\n",
        "            or self.n_samples < self.min_samples):\n",
        "            return True\n",
        "        return False\n",
        "    \n",
        "    def _build_tree(self, X, y, depth=0):\n",
        "        self.n_samples, self.n_features = X.shape\n",
        "        self.n_class_labels = len(np.unique(y))\n",
        "\n",
        "        # stopping criteria\n",
        "        if self._is_finished(depth):\n",
        "            most_common_Label = np.argmax(np.bincount(y))\n",
        "            print(\"Node(value=most_common_Label)\", Node(value=most_common_Label)).value\n",
        "            return Node(value=most_common_Label)\n",
        "        \n",
        "    def fit(self, X, y):\n",
        "        self.root = self._build_tree(X, y)\n",
        "\n",
        "    def _entropy(self, y):\n",
        "        proportions = np.bincount(y) / len(y)\n",
        "        entropy = -np.sum([p * np.log2(p) for p in proportions if p > 0])\n",
        "        return entropy\n",
        "\n",
        "    def _create_split(self, X, thresh):\n",
        "        left_idx = np.argwhere(X <= thresh).flatten()\n",
        "        right_idx = np.argwhere(X > thresh).flatten()\n",
        "        return left_idx, right_idx\n",
        "\n",
        "    def _information_gain(self, X, y, thresh):\n",
        "        parent_loss = self._entropy(y)\n",
        "        left_idx, right_idx = self._create_split(X, thresh)\n",
        "        n, n_left, n_right = len(y), len(left_idx), len(right_idx)\n",
        "\n",
        "        if n_left == 0 or n_right == 0: \n",
        "            return 0\n",
        "        \n",
        "        child_loss = (n_left / n) * self._entropy(y[left_idx]) + (n_right / n) * self._entropy(y[right_idx])\n",
        "        return parent_loss - child_loss\n",
        "\n",
        "    def _best_split(self, X, y, features):\n",
        "        split = {'score':- 1, 'feat': None, 'thresh': None}\n",
        "\n",
        "        for feat in features:\n",
        "            X_feat = X[:, feat]                #x[row_index, column_index]\n",
        "            print (\"X_feat\", X_feat)\n",
        "            thresholds = np.unique(X_feat)     #Returns the sorted unique elements of an array.\n",
        "            print (\"thresholds\", thresholds)\n",
        "            for thresh in thresholds:\n",
        "                score = self._information_gain(X_feat, y, thresh)\n",
        "\n",
        "                if score > split['score']:\n",
        "                    split['score'] = score\n",
        "                    split['feat'] = feat\n",
        "                    split['thresh'] = thresh\n",
        "\n",
        "        return split['feat'], split['thresh']\n",
        "    \n",
        "    def _build_tree(self, X, y, depth=0):\n",
        "\n",
        "        self.n_samples, self.n_features = X.shape\n",
        "        self.n_class_labels = len(np.unique(y))\n",
        "\n",
        "        # stopping criteria\n",
        "        if self._is_finished(depth):\n",
        "            most_common_Label = np.argmax(np.bincount(y))\n",
        "            return Node(value=most_common_Label)\n",
        "\n",
        "        # get best split\n",
        "        rnd_feats = np.random.choice(self.n_features, self.n_features, replace=False)\n",
        "        print(rnd_feats)\n",
        "        best_feat, best_thresh = self._best_split(X, y, rnd_feats)\n",
        "        print (best_feat, best_thresh,\"\\n\\n\")\n",
        "\n",
        "        # grow children recursively\n",
        "        left_idx, right_idx = self._create_split(X[:, best_feat], best_thresh)\n",
        "        left_child = self._build_tree(X[left_idx, :], y[left_idx], depth + 1)\n",
        "        right_child = self._build_tree(X[right_idx, :], y[right_idx], depth + 1)\n",
        "        return Node(best_feat, best_thresh, left_child, right_child)\n",
        "\n",
        "    def _traverse_tree(self, x, node):\n",
        "        if node.is_leaf():\n",
        "            print (\"node.value\", node.value)\n",
        "            return node.value\n",
        "        \n",
        "        print (\"x\", x)\n",
        "        print (\"x[node.feature]\", x[node.feature], \"node.threshold\", node.threshold)\n",
        "        print (\"vars(node)\", vars(node))\n",
        "        print (\"node\", node)\n",
        "        print (\"node.feature\", node.feature)\n",
        "    \n",
        "        if x[node.feature] <= node.threshold:\n",
        "            return self._traverse_tree(x, node.left)\n",
        "        return self._traverse_tree(x, node.right)\n",
        "        \n",
        "    def _print_tree(self, node):\n",
        "      if node.is_leaf():\n",
        "          print (\"node\", node)\n",
        "          print (\"Class\", node.value)\n",
        "          return node.value\n",
        "      \n",
        "      print (\"node\", node) \n",
        "      print (\"feature\", node.feature, \"<=\", node.threshold )\n",
        "      print (\"node.left\", node.left)\n",
        "      print (\"node.right\", node.right)\n",
        "      print (\"\\n\")\n",
        "      \n",
        "      print (\"left \", end='')\n",
        "      self._print_tree(node.left)\n",
        "\n",
        "      print (\"right \", end='')\n",
        "      self._print_tree(node.right)\n",
        "\n",
        "    def predict(self, X):\n",
        "        for x in X:\n",
        "          print(\"X\"); print (X)\n",
        "          print(\"x\"); print (x)\n",
        "        predictions = [self._traverse_tree(x, self.root) for x in X]\n",
        "        return np.array(predictions)\n",
        "        "
      ],
      "metadata": {
        "id": "ikGaa9tS1hBk"
      },
      "execution_count": 264,
      "outputs": []
    },
    {
      "cell_type": "code",
      "source": [
        "class Node:\n",
        "    def __init__(self, feature=None, threshold=None, left=None, right=None, *, value=None):\n",
        "        self.feature = feature\n",
        "        self.threshold = threshold\n",
        "        self.left = left\n",
        "        self.right = right\n",
        "        self.value = value\n",
        "    \n",
        "    def is_leaf(self):\n",
        "        return self.value is not None"
      ],
      "metadata": {
        "id": "j2L4hHnh1pLQ"
      },
      "execution_count": 265,
      "outputs": []
    },
    {
      "cell_type": "code",
      "source": [
        "def accuracy(y_true, y_pred):\n",
        "    accuracy = np.sum(y_true == y_pred) / len(y_true)\n",
        "    return accuracy"
      ],
      "metadata": {
        "id": "UJyPsmFB1XAr"
      },
      "execution_count": 266,
      "outputs": []
    },
    {
      "cell_type": "code",
      "source": [
        "dataset = pd.read_csv(\"/content/drive/My Drive/Colab Notebooks/CS6140 Assignment1/data.csv\")\n"
      ],
      "metadata": {
        "id": "mXHvM-fy39um"
      },
      "execution_count": 267,
      "outputs": []
    },
    {
      "cell_type": "code",
      "source": [
        "feature_cols = ['feature1', 'feature2', 'feature3', 'feature4']\n",
        "X = dataset[feature_cols]                         #Assign all feature columns into variable X\n",
        "y = dataset['class']                              #Assign all target columns into variable y\n",
        "\n",
        "X_train, X_test, y_train, y_test = train_test_split(\n",
        "    X, y, test_size=0.2, random_state=1\n",
        ")\n",
        "\n",
        "model = ClassificationDecisionTree(max_depth=10)\n",
        "model.fit(X_train.values , y_train.values)"
      ],
      "metadata": {
        "id": "DDvvb2VT4jY7"
      },
      "execution_count": null,
      "outputs": []
    },
    {
      "cell_type": "code",
      "source": [
        "print (\"X_test\", X_test)\n",
        "y_pred = model.predict(X_test.values)\n",
        "print (\"y_pred\", y_pred)\n",
        "acc = accuracy(y_test, y_pred)\n",
        "print(\"Accuracy:\", acc)"
      ],
      "metadata": {
        "id": "U3Y1dF5kGxfO"
      },
      "execution_count": null,
      "outputs": []
    },
    {
      "cell_type": "code",
      "source": [
        "model._print_tree(model.root)\n",
        "\n"
      ],
      "metadata": {
        "colab": {
          "base_uri": "https://localhost:8080/"
        },
        "id": "hFk05_asfEpb",
        "outputId": "743fc225-1817-48ac-859d-4bc086ca56a4"
      },
      "execution_count": 271,
      "outputs": [
        {
          "output_type": "stream",
          "name": "stdout",
          "text": [
            "node <__main__.Node object at 0x7f592ee93390>\n",
            "feature 2 <= 1.9\n",
            "node.left <__main__.Node object at 0x7f592eda5d50>\n",
            "node.right <__main__.Node object at 0x7f593c3ed350>\n",
            "\n",
            "\n",
            "left node <__main__.Node object at 0x7f592eda5d50>\n",
            "Class 0\n",
            "right node <__main__.Node object at 0x7f593c3ed350>\n",
            "feature 3 <= 1.6\n",
            "node.left <__main__.Node object at 0x7f592eeb7e90>\n",
            "node.right <__main__.Node object at 0x7f592eeb7d90>\n",
            "\n",
            "\n",
            "left node <__main__.Node object at 0x7f592eeb7e90>\n",
            "feature 2 <= 4.9\n",
            "node.left <__main__.Node object at 0x7f592edb6d50>\n",
            "node.right <__main__.Node object at 0x7f592eeb7fd0>\n",
            "\n",
            "\n",
            "left node <__main__.Node object at 0x7f592edb6d50>\n",
            "Class 1\n",
            "right node <__main__.Node object at 0x7f592eeb7fd0>\n",
            "feature 3 <= 1.5\n",
            "node.left <__main__.Node object at 0x7f592ed32910>\n",
            "node.right <__main__.Node object at 0x7f592eeb7f90>\n",
            "\n",
            "\n",
            "left node <__main__.Node object at 0x7f592ed32910>\n",
            "Class 2\n",
            "right node <__main__.Node object at 0x7f592eeb7f90>\n",
            "Class 1\n",
            "right node <__main__.Node object at 0x7f592eeb7d90>\n",
            "Class 2\n"
          ]
        }
      ]
    }
  ]
}
