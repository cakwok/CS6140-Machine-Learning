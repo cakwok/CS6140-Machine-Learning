{
  "nbformat": 4,
  "nbformat_minor": 0,
  "metadata": {
    "colab": {
      "name": "1.2 Decision Tree(sklearn).ipynb",
      "provenance": [],
      "collapsed_sections": [],
      "mount_file_id": "14W2bLQd32S8iWsH_q_YROtEpcqwJqBwA",
      "authorship_tag": "ABX9TyNtAZFWBEVmKfwgv1vvuvfx"
    },
    "kernelspec": {
      "name": "python3",
      "display_name": "Python 3"
    },
    "language_info": {
      "name": "python"
    }
  },
  "cells": [
    {
      "cell_type": "code",
      "source": [
        "'''\n",
        "CS6140 Assignment 1\n",
        "Q1.2 Decision Tree using Sklearn Library\n",
        "\n",
        "Wing Man, Kwok  \n",
        "05/18/2022\n",
        "'''"
      ],
      "metadata": {
        "id": "LFqsICfp4Mnx"
      },
      "execution_count": null,
      "outputs": []
    },
    {
      "cell_type": "code",
      "execution_count": 175,
      "metadata": {
        "id": "t1vd9n8JgmYn"
      },
      "outputs": [],
      "source": [
        "#Import libraries\n",
        "import pandas as pd\n",
        "from sklearn.tree import DecisionTreeClassifier       #Import Decision Tree Classifier, to build a classification decision tree\n",
        "from sklearn.model_selection import train_test_split  #Import train_test_split function\n",
        "from sklearn import metrics                           #Import scikit-learn metrics module for accuracy calculation\n",
        "from matplotlib import pyplot as plt                  #Plot decision tree\n",
        "from sklearn import tree                              #Plot decision tree\n",
        "import numpy as np\n",
        "% matplotlib inline"
      ]
    },
    {
      "cell_type": "code",
      "source": [
        "#Prepare dataset\n",
        "dataset = pd.read_csv(\"/content/drive/My Drive/Colab Notebooks/CS6140 Assignment1/data.csv\")\n",
        "dataset.head()"
      ],
      "metadata": {
        "colab": {
          "base_uri": "https://localhost:8080/",
          "height": 206
        },
        "id": "2HYlXuV9ki0G",
        "outputId": "ee6883c2-a93d-4537-c6f7-816fbeaf927e"
      },
      "execution_count": 176,
      "outputs": [
        {
          "output_type": "execute_result",
          "data": {
            "text/plain": [
              "   feature1  feature2  feature3  feature4  class\n",
              "0       5.0       3.5       1.3       0.3      0\n",
              "1       6.9       3.1       4.9       1.5      1\n",
              "2       5.8       2.6       4.0       1.2      1\n",
              "3       6.7       3.0       5.2       2.3      2\n",
              "4       5.1       3.3       1.7       0.5      0"
            ],
            "text/html": [
              "\n",
              "  <div id=\"df-983b0d98-cea1-4f01-a503-504501ded36e\">\n",
              "    <div class=\"colab-df-container\">\n",
              "      <div>\n",
              "<style scoped>\n",
              "    .dataframe tbody tr th:only-of-type {\n",
              "        vertical-align: middle;\n",
              "    }\n",
              "\n",
              "    .dataframe tbody tr th {\n",
              "        vertical-align: top;\n",
              "    }\n",
              "\n",
              "    .dataframe thead th {\n",
              "        text-align: right;\n",
              "    }\n",
              "</style>\n",
              "<table border=\"1\" class=\"dataframe\">\n",
              "  <thead>\n",
              "    <tr style=\"text-align: right;\">\n",
              "      <th></th>\n",
              "      <th>feature1</th>\n",
              "      <th>feature2</th>\n",
              "      <th>feature3</th>\n",
              "      <th>feature4</th>\n",
              "      <th>class</th>\n",
              "    </tr>\n",
              "  </thead>\n",
              "  <tbody>\n",
              "    <tr>\n",
              "      <th>0</th>\n",
              "      <td>5.0</td>\n",
              "      <td>3.5</td>\n",
              "      <td>1.3</td>\n",
              "      <td>0.3</td>\n",
              "      <td>0</td>\n",
              "    </tr>\n",
              "    <tr>\n",
              "      <th>1</th>\n",
              "      <td>6.9</td>\n",
              "      <td>3.1</td>\n",
              "      <td>4.9</td>\n",
              "      <td>1.5</td>\n",
              "      <td>1</td>\n",
              "    </tr>\n",
              "    <tr>\n",
              "      <th>2</th>\n",
              "      <td>5.8</td>\n",
              "      <td>2.6</td>\n",
              "      <td>4.0</td>\n",
              "      <td>1.2</td>\n",
              "      <td>1</td>\n",
              "    </tr>\n",
              "    <tr>\n",
              "      <th>3</th>\n",
              "      <td>6.7</td>\n",
              "      <td>3.0</td>\n",
              "      <td>5.2</td>\n",
              "      <td>2.3</td>\n",
              "      <td>2</td>\n",
              "    </tr>\n",
              "    <tr>\n",
              "      <th>4</th>\n",
              "      <td>5.1</td>\n",
              "      <td>3.3</td>\n",
              "      <td>1.7</td>\n",
              "      <td>0.5</td>\n",
              "      <td>0</td>\n",
              "    </tr>\n",
              "  </tbody>\n",
              "</table>\n",
              "</div>\n",
              "      <button class=\"colab-df-convert\" onclick=\"convertToInteractive('df-983b0d98-cea1-4f01-a503-504501ded36e')\"\n",
              "              title=\"Convert this dataframe to an interactive table.\"\n",
              "              style=\"display:none;\">\n",
              "        \n",
              "  <svg xmlns=\"http://www.w3.org/2000/svg\" height=\"24px\"viewBox=\"0 0 24 24\"\n",
              "       width=\"24px\">\n",
              "    <path d=\"M0 0h24v24H0V0z\" fill=\"none\"/>\n",
              "    <path d=\"M18.56 5.44l.94 2.06.94-2.06 2.06-.94-2.06-.94-.94-2.06-.94 2.06-2.06.94zm-11 1L8.5 8.5l.94-2.06 2.06-.94-2.06-.94L8.5 2.5l-.94 2.06-2.06.94zm10 10l.94 2.06.94-2.06 2.06-.94-2.06-.94-.94-2.06-.94 2.06-2.06.94z\"/><path d=\"M17.41 7.96l-1.37-1.37c-.4-.4-.92-.59-1.43-.59-.52 0-1.04.2-1.43.59L10.3 9.45l-7.72 7.72c-.78.78-.78 2.05 0 2.83L4 21.41c.39.39.9.59 1.41.59.51 0 1.02-.2 1.41-.59l7.78-7.78 2.81-2.81c.8-.78.8-2.07 0-2.86zM5.41 20L4 18.59l7.72-7.72 1.47 1.35L5.41 20z\"/>\n",
              "  </svg>\n",
              "      </button>\n",
              "      \n",
              "  <style>\n",
              "    .colab-df-container {\n",
              "      display:flex;\n",
              "      flex-wrap:wrap;\n",
              "      gap: 12px;\n",
              "    }\n",
              "\n",
              "    .colab-df-convert {\n",
              "      background-color: #E8F0FE;\n",
              "      border: none;\n",
              "      border-radius: 50%;\n",
              "      cursor: pointer;\n",
              "      display: none;\n",
              "      fill: #1967D2;\n",
              "      height: 32px;\n",
              "      padding: 0 0 0 0;\n",
              "      width: 32px;\n",
              "    }\n",
              "\n",
              "    .colab-df-convert:hover {\n",
              "      background-color: #E2EBFA;\n",
              "      box-shadow: 0px 1px 2px rgba(60, 64, 67, 0.3), 0px 1px 3px 1px rgba(60, 64, 67, 0.15);\n",
              "      fill: #174EA6;\n",
              "    }\n",
              "\n",
              "    [theme=dark] .colab-df-convert {\n",
              "      background-color: #3B4455;\n",
              "      fill: #D2E3FC;\n",
              "    }\n",
              "\n",
              "    [theme=dark] .colab-df-convert:hover {\n",
              "      background-color: #434B5C;\n",
              "      box-shadow: 0px 1px 3px 1px rgba(0, 0, 0, 0.15);\n",
              "      filter: drop-shadow(0px 1px 2px rgba(0, 0, 0, 0.3));\n",
              "      fill: #FFFFFF;\n",
              "    }\n",
              "  </style>\n",
              "\n",
              "      <script>\n",
              "        const buttonEl =\n",
              "          document.querySelector('#df-983b0d98-cea1-4f01-a503-504501ded36e button.colab-df-convert');\n",
              "        buttonEl.style.display =\n",
              "          google.colab.kernel.accessAllowed ? 'block' : 'none';\n",
              "\n",
              "        async function convertToInteractive(key) {\n",
              "          const element = document.querySelector('#df-983b0d98-cea1-4f01-a503-504501ded36e');\n",
              "          const dataTable =\n",
              "            await google.colab.kernel.invokeFunction('convertToInteractive',\n",
              "                                                     [key], {});\n",
              "          if (!dataTable) return;\n",
              "\n",
              "          const docLinkHtml = 'Like what you see? Visit the ' +\n",
              "            '<a target=\"_blank\" href=https://colab.research.google.com/notebooks/data_table.ipynb>data table notebook</a>'\n",
              "            + ' to learn more about interactive tables.';\n",
              "          element.innerHTML = '';\n",
              "          dataTable['output_type'] = 'display_data';\n",
              "          await google.colab.output.renderOutput(dataTable, element);\n",
              "          const docLink = document.createElement('div');\n",
              "          docLink.innerHTML = docLinkHtml;\n",
              "          element.appendChild(docLink);\n",
              "        }\n",
              "      </script>\n",
              "    </div>\n",
              "  </div>\n",
              "  "
            ]
          },
          "metadata": {},
          "execution_count": 176
        }
      ]
    },
    {
      "cell_type": "code",
      "source": [
        "#split dataset in features and target variable\n",
        "feature_cols = dataset.columns.values[:-1]        #Equipvalent to feature_cols = ['feature1', 'feature2', 'feature3', 'feature4']\n",
        "label_col = dataset.columns.values[-1] \n",
        "X = dataset[feature_cols]                         #Assign all feature columns into variable X\n",
        "y = dataset[label_col]                            #Assign all target columns into variable y.  label_col = ['class']\n",
        "\n",
        "print(\"Feature variables\")\n",
        "print(\"-----------------\")\n",
        "print(X, \"\\n\")\n",
        "print(\"Label\")\n",
        "print(\"-----\")\n",
        "print(y, \"\\n\")\n",
        "print(\"Feature variable shape\", X.shape)"
      ],
      "metadata": {
        "colab": {
          "base_uri": "https://localhost:8080/"
        },
        "id": "Vi6HYsVAtPnG",
        "outputId": "97baaf54-a080-4fa7-f2c5-63ae12bcda25"
      },
      "execution_count": 239,
      "outputs": [
        {
          "output_type": "stream",
          "name": "stdout",
          "text": [
            "Feature variables\n",
            "-----------------\n",
            "     feature1  feature2  feature3  feature4\n",
            "0         5.0       3.5       1.3       0.3\n",
            "1         6.9       3.1       4.9       1.5\n",
            "2         5.8       2.6       4.0       1.2\n",
            "3         6.7       3.0       5.2       2.3\n",
            "4         5.1       3.3       1.7       0.5\n",
            "..        ...       ...       ...       ...\n",
            "145       7.4       2.8       6.1       1.9\n",
            "146       6.2       2.9       4.3       1.3\n",
            "147       5.6       2.5       3.9       1.1\n",
            "148       5.1       3.5       1.4       0.2\n",
            "149       6.4       3.2       5.3       2.3\n",
            "\n",
            "[150 rows x 4 columns] \n",
            "\n",
            "Label\n",
            "-----\n",
            "0      0\n",
            "1      1\n",
            "2      1\n",
            "3      2\n",
            "4      0\n",
            "      ..\n",
            "145    2\n",
            "146    1\n",
            "147    1\n",
            "148    0\n",
            "149    2\n",
            "Name: class, Length: 150, dtype: int64 \n",
            "\n",
            "Feature variable shape (150, 4)\n"
          ]
        }
      ]
    },
    {
      "cell_type": "code",
      "source": [
        "# Split dataset into training set and test set\n",
        "X_train, X_test, y_train, y_test = train_test_split(X, y, test_size=0.2, random_state=42) # 80% training and 20% test\n",
        "\n",
        "print(\"Training dataset feature shape:\", X_train.shape)\n",
        "print(\"Training dataset target shape:\", y_train.shape)"
      ],
      "metadata": {
        "colab": {
          "base_uri": "https://localhost:8080/"
        },
        "id": "Yme0pfKsu2DU",
        "outputId": "5f5a9d66-ff08-408e-a848-683dbe3acf58"
      },
      "execution_count": 240,
      "outputs": [
        {
          "output_type": "stream",
          "name": "stdout",
          "text": [
            "Training dataset feature shape: (120, 4)\n",
            "Training dataset target shape: (120,)\n"
          ]
        }
      ]
    },
    {
      "cell_type": "code",
      "source": [
        "# Fit training data for training, use gini as splitting measure\n",
        "model = DecisionTreeClassifier(criterion=\"gini\")\n",
        "model = model.fit(X_train , y_train)\n",
        "y_pred = model.predict(X_test)\n",
        "\n",
        "print(\"prediction of label:\\t\", y_pred)\n",
        "print(\"true label:\\t\\t\", y_test.to_numpy())       #to_numpy() -> convert panda series into a numpy array\n",
        "print(\"Accuracy :\\t\\t\" , metrics.accuracy_score(y_test, y_pred))"
      ],
      "metadata": {
        "id": "nQUx6LVmi6tH",
        "colab": {
          "base_uri": "https://localhost:8080/"
        },
        "outputId": "ec38ef01-bdc3-42d0-a7e9-7bd07b5dff65"
      },
      "execution_count": 281,
      "outputs": [
        {
          "output_type": "stream",
          "name": "stdout",
          "text": [
            "prediction of label:\t [2 0 0 2 1 1 1 2 1 2 0 0 1 0 0 2 0 2 1 2 0 1 1 0 1 2 1 2 0 0]\n",
            "true label:\t\t [2 0 0 2 1 1 1 2 2 2 0 0 1 0 0 2 0 2 1 2 0 1 1 0 1 2 1 2 0 0]\n",
            "Accuracy :\t\t 0.9666666666666667\n"
          ]
        }
      ]
    },
    {
      "cell_type": "code",
      "source": [
        "tree_text_representation = tree.export_text(model, max_depth=10)\n",
        "print(tree_text_representation)"
      ],
      "metadata": {
        "id": "wsY5X0LikcBq",
        "colab": {
          "base_uri": "https://localhost:8080/"
        },
        "outputId": "90415770-0040-4657-d55f-2717c1595b6d"
      },
      "execution_count": 260,
      "outputs": [
        {
          "output_type": "stream",
          "name": "stdout",
          "text": [
            "|--- feature_2 <= 2.45\n",
            "|   |--- class: 0\n",
            "|--- feature_2 >  2.45\n",
            "|   |--- feature_3 <= 1.75\n",
            "|   |   |--- feature_2 <= 5.05\n",
            "|   |   |   |--- feature_0 <= 4.95\n",
            "|   |   |   |   |--- feature_1 <= 2.45\n",
            "|   |   |   |   |   |--- class: 1\n",
            "|   |   |   |   |--- feature_1 >  2.45\n",
            "|   |   |   |   |   |--- class: 2\n",
            "|   |   |   |--- feature_0 >  4.95\n",
            "|   |   |   |   |--- class: 1\n",
            "|   |   |--- feature_2 >  5.05\n",
            "|   |   |   |--- feature_0 <= 6.05\n",
            "|   |   |   |   |--- class: 1\n",
            "|   |   |   |--- feature_0 >  6.05\n",
            "|   |   |   |   |--- class: 2\n",
            "|   |--- feature_3 >  1.75\n",
            "|   |   |--- feature_2 <= 4.85\n",
            "|   |   |   |--- feature_0 <= 5.95\n",
            "|   |   |   |   |--- class: 1\n",
            "|   |   |   |--- feature_0 >  5.95\n",
            "|   |   |   |   |--- class: 2\n",
            "|   |   |--- feature_2 >  4.85\n",
            "|   |   |   |--- class: 2\n",
            "\n"
          ]
        }
      ]
    },
    {
      "cell_type": "markdown",
      "source": [
        "To compare the result with the decision tree I generated, both accuracy are satifactory.  \n",
        "\n",
        "The tree I built using entropy as information gain to split data, the accuracy reached 90%, while using gini by this sklearn example, demonstrated a better result, with accuracy of 96.66667%.\n",
        "\n",
        "It looks like gini can generalise prediction better, but afterall, the dataset is only 150 samples in size, so the difference could only account for this dataset only."
      ],
      "metadata": {
        "id": "D6sn-EdKlwSL"
      }
    }
  ]
}
