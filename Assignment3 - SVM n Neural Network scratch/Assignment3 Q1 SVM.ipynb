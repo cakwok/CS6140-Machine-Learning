{
  "nbformat": 4,
  "nbformat_minor": 0,
  "metadata": {
    "colab": {
      "name": "Assignment3 - Q1 SVM.ipynb",
      "provenance": [],
      "collapsed_sections": [],
      "mount_file_id": "1XiiYAdNFWJS2pG1HFY2Jik7sP3R0NhqO",
      "authorship_tag": "ABX9TyOGu/5YAb9DXTKMROU61+GC"
    },
    "kernelspec": {
      "name": "python3",
      "display_name": "Python 3"
    },
    "language_info": {
      "name": "python"
    }
  },
  "cells": [
    {
      "cell_type": "code",
      "execution_count": 24,
      "metadata": {
        "id": "6q0xqTlut9lM"
      },
      "outputs": [],
      "source": [
        "#Q1 Implement SVM from scratch\n",
        "\n",
        "import numpy as np\n",
        "import random\n",
        "import matplotlib.pyplot as plt                                 #To plot scatter plot\n",
        "from scipy.optimize import minimize, LinearConstraint           #For SVM optimization\n",
        "from scipy.optimize import Bounds, BFGS                         #For SVM optimization"
      ]
    },
    {
      "cell_type": "code",
      "source": [
        "#1.1 Generate and visualize data\n",
        "def gen_data():\n",
        "    np.random.seed(105)\n",
        "    Positive = np.concatenate((np.random.randn(10, 2) * 0.4 + [1.5, -0.5],\n",
        "                             np.random.randn(10, 2) * 0.4 + [-1.5, 0.5]))\n",
        "    Negative = np.random.randn(20, 2) * 0.3 + [0.0, -0.9]\n",
        "\n",
        "    return Positive, Negative"
      ],
      "metadata": {
        "id": "_2E9BcNd82xH"
      },
      "execution_count": 25,
      "outputs": []
    },
    {
      "cell_type": "code",
      "source": [
        "#1.2 Plot data\n",
        "def plot_data(Positive, Negative):\n",
        "  x_axis_range = np.linspace(-2.5, 2.5, 20)\n",
        "  plt.scatter(Positive[:, 0], Positive[:, 1], color = \"b\")\n",
        "  plt.scatter(Negative[:, 0], Negative[:, 1], color = \"r\")"
      ],
      "metadata": {
        "id": "a3vC1sbIwXa8"
      },
      "execution_count": 26,
      "outputs": []
    },
    {
      "cell_type": "code",
      "source": [
        "#1.3 Fit SVM with linear kernel with slack variable\n",
        "def lagrange_dual(alpha, x, y):\n",
        "    ZERO = 1e-7\n",
        "    result = 0\n",
        "    non_zero_alphas = np.where(alpha > ZERO)[0]\n",
        "    for i in non_zero_alphas:\n",
        "        for k in non_zero_alphas:\n",
        "            #result = result + alpha[i]*alpha[k]*y[i]*y[k]*np.dot(x[i, :], x[k, :]) \n",
        "            result = result + alpha[i]*alpha[k]*y[i]*y[k]*linear_kernel(x[i, :], x[k, :])\n",
        "    result = 0.5*result - sum(alpha)     \n",
        "    return result"
      ],
      "metadata": {
        "id": "61Ay0J_TXV4a"
      },
      "execution_count": 27,
      "outputs": []
    },
    {
      "cell_type": "code",
      "source": [
        "def linear_kernel(x, y, **kwargs):\n",
        "    # insert your code here \n",
        "    # return linear kernel output\n",
        "    return np.dot(x, y)"
      ],
      "metadata": {
        "id": "Hds5AdehBq62"
      },
      "execution_count": 28,
      "outputs": []
    },
    {
      "cell_type": "code",
      "source": [
        "def fit(X, Y, C=None, kernel=None, kwargs = {}):\n",
        "    '''\n",
        "    X: input_data (Nx2) numpy array\n",
        "    Y: binary target variable (N,) numpy array\n",
        "    C: The slack variable\n",
        "    kernel: kernel function (linear or polynomial)\n",
        "    kwargs: dictionary of arguments\n",
        "    '''\n",
        "    # insert your code here\n",
        "    # Apply optimization of dual function (Equation 7.10: Bishop)\n",
        "    # make use of minimize()\n",
        "    # \n",
        "    m, n = X.shape\n",
        "    np.random.seed(1)\n",
        "    \n",
        "    alpha_0 = np.random.rand(m)*C                       # Initialize alphas to random values\n",
        "    linear_constraint = LinearConstraint(Y, [0], [0])   # Define the constraint\n",
        "    bounds_alpha = Bounds(np.zeros(m), np.full(m, C))   # Define the bounds\n",
        "\n",
        "    # Find the optimal value of alpha\n",
        "    result = minimize(lagrange_dual, alpha_0, args = (X, Y), method='trust-constr', \n",
        "                      hess=BFGS(), constraints=[linear_constraint],\n",
        "                      bounds=bounds_alpha)\n",
        "    \n",
        "    # The optimized value of alpha lies in result.x\n",
        "    alpha = result.x\n",
        "    return alpha\n"
      ],
      "metadata": {
        "id": "oNTe21GZB_qU"
      },
      "execution_count": 29,
      "outputs": []
    },
    {
      "cell_type": "code",
      "source": [
        "#Q1.4 Linear Kernel decision boundary visualization\n",
        "\n",
        "def get_support_vectors(X, Y, lambdas, threshold=10e-5):\n",
        "  # insert your code here\n",
        "  # return support vectors, target variable values of the support vectors, lambdas of support vectoss\n",
        "  # remeber only lambdas >=0 are to be kept\n",
        "  s_vecs =  np.array([]); s_vecs_Y =  np.array([]); s_vecs_lambda =  np.array([])\n",
        "\n",
        "  for x, y, lambda_m in zip (X, Y, lambdas):\n",
        "    if lambda_m > threshold:\n",
        "      s_vecs = np.append(s_vecs, x)\n",
        "      s_vecs_Y = np.append(s_vecs_Y, y)\n",
        "      s_vecs_lambda = np.append(s_vecs_lambda, lambda_m)\n",
        "\n",
        "  return np.reshape(s_vecs, (-1, 2)), s_vecs_Y, s_vecs_lambda     #reshape a flattened s_vecs into shape = 2, 1\n",
        " \n"
      ],
      "metadata": {
        "id": "arKolSDvCgVq"
      },
      "execution_count": 30,
      "outputs": []
    },
    {
      "cell_type": "code",
      "source": [
        "# Test code\n",
        "if __name__ == '__main__':\n",
        "    Positive, Negative = gen_data()\n",
        "    plot_data(Positive, Negative)\n",
        "    \n",
        "    X = np.concatenate((Positive, Negative))\n",
        "    target_data = np.concatenate((np.ones(Positive.shape[0]), -np.ones(Negative.shape[0])))\n",
        "\n",
        "    size = X.shape[0]\n",
        "    shuffle_data = list(range(size))      #range(40) means numbers  0 - 39 are created and listed\n",
        "    random.shuffle(shuffle_data)\n",
        "    X = X[shuffle_data, :]\n",
        "    Y = target_data[shuffle_data]\n",
        "\n",
        "    lambdas = fit(X, Y, C=5,  kernel=linear_kernel, kwargs={})    # C is slack variable\n",
        "               \n",
        "    # Get the alpha values for the support vectors, as well as their target data.\n",
        "    s_vecs, s_vecs_Y, s_vecs_lambda = get_support_vectors(X, Y, lambdas)\n",
        "    print(f\"{s_vecs.shape[0]} support vectors found.\\\\n\", s_vecs)\n",
        "    '''\n",
        "    # test new data point\n",
        "    ip_new = np.array([-0.6, 0.75])\n",
        "    prediciton = predict(ip_new,\n",
        "                         s_vecs,\n",
        "                         s_vecs_Y,\n",
        "                         s_vecs_lambda,\n",
        "                         kernel=linear_kernel,\n",
        "                         kwargs={})\n",
        "\n",
        "    plot_decision_boundary(  Positive, Negative,\n",
        "                             ip_new,\n",
        "                             s_vecs,\n",
        "                             s_vecs_Y,\n",
        "                             s_vecs_lambda,\n",
        "                             kernel=linear_kernel,\n",
        "                             kwargs={})\n",
        "  '''\n"
      ],
      "metadata": {
        "colab": {
          "base_uri": "https://localhost:8080/",
          "height": 1000
        },
        "id": "9plmh0ozua0F",
        "outputId": "ca1ae81d-59c1-495c-f7ee-c04c3cf04e30"
      },
      "execution_count": 31,
      "outputs": [
        {
          "output_type": "stream",
          "name": "stdout",
          "text": [
            "X [[ 1.40186973 -0.74534088]\n",
            " [ 1.20929285 -0.47625357]\n",
            " [ 1.90223209 -0.55125585]\n",
            " [ 0.88640301 -0.31171598]\n",
            " [ 1.2778755  -0.58188648]\n",
            " [ 2.18190517  0.52953827]\n",
            " [ 1.72225459 -0.11974027]\n",
            " [ 0.93775459  0.06812878]\n",
            " [ 0.98524228 -0.44313042]\n",
            " [ 1.77592671 -0.62091129]\n",
            " [-2.1300322   0.61799457]\n",
            " [-1.14212888 -0.19215842]\n",
            " [-1.53690053  1.07849279]\n",
            " [-0.76590095  1.12063704]\n",
            " [-1.25314624  0.7644046 ]\n",
            " [-1.44369968  1.3358034 ]\n",
            " [-2.01477484  0.55726986]\n",
            " [-1.247687    0.60864115]\n",
            " [-2.03524537  0.56015045]\n",
            " [-1.44075191  0.15927811]\n",
            " [-0.10434967 -0.80116922]\n",
            " [-0.20376774 -0.82076316]\n",
            " [ 0.58299574 -1.22404863]\n",
            " [-0.04612834 -0.43374017]\n",
            " [-0.28625899 -1.15067218]\n",
            " [ 0.07112504 -1.01239012]\n",
            " [ 0.42448628 -0.86445712]\n",
            " [ 0.28036696 -1.35396003]\n",
            " [-0.71154051 -0.54219998]\n",
            " [-0.18664454 -1.2922903 ]\n",
            " [ 0.07742877 -1.14931829]\n",
            " [-0.6251601  -1.42210023]\n",
            " [-0.11132172 -1.48342931]\n",
            " [-0.43042553 -0.1224234 ]\n",
            " [-0.00892175 -0.71463001]\n",
            " [ 0.25602264 -1.35327514]\n",
            " [-0.59376991 -0.84960436]\n",
            " [-0.52528106 -0.19958112]\n",
            " [ 0.62905985 -0.99111128]\n",
            " [-0.39561007 -0.93109048]]\n",
            "target_data [ 1.  1.  1.  1.  1.  1.  1.  1.  1.  1.  1.  1.  1.  1.  1.  1.  1.  1.\n",
            "  1.  1. -1. -1. -1. -1. -1. -1. -1. -1. -1. -1. -1. -1. -1. -1. -1. -1.\n",
            " -1. -1. -1. -1.]\n",
            "lamdas [5.29475234e-08 4.99999990e+00 4.99999987e+00 6.29233234e-10\n",
            " 1.13757133e-07 8.47309592e-08 9.07258448e-08 3.22886974e-07\n",
            " 6.53453866e-07 1.85774425e+00 4.99999992e+00 9.53246162e-08\n",
            " 1.84858444e-07 2.13328094e-07 1.13668815e-08 1.12104530e-07\n",
            " 4.24817859e-07 2.22631340e-01 1.36707507e-07 1.15478030e-07\n",
            " 4.99999979e+00 8.12521008e-08 9.26956120e-06 9.46519648e-08\n",
            " 2.87694385e-08 6.20355823e-07 4.99999982e+00 3.53834056e-07\n",
            " 4.99999992e+00 6.92007145e-08 9.10083744e-08 5.46046520e-08\n",
            " 3.16357184e-10 1.51204648e-09 2.08039042e+00 4.99999382e+00\n",
            " 4.99999913e+00 1.03543392e-07 4.25965465e-07 1.37743139e-06]\n",
            "s_vecs [[-0.52528106 -0.19958112]\n",
            " [-0.04612834 -0.43374017]\n",
            " [-2.03524537  0.56015045]\n",
            " [-0.43042553 -0.1224234 ]\n",
            " [ 0.98524228 -0.44313042]\n",
            " [ 1.40186973 -0.74534088]\n",
            " [-1.44075191  0.15927811]\n",
            " [-1.14212888 -0.19215842]\n",
            " [ 0.42448628 -0.86445712]\n",
            " [-0.00892175 -0.71463001]\n",
            " [ 1.2778755  -0.58188648]]\n",
            "s_vecs_lambda [4.9999999  4.99999987 1.85774425 4.99999992 0.22263134 4.99999979\n",
            " 4.99999982 4.99999992 2.08039042 4.99999382 4.99999913]\n",
            "11 support vectors found.\\n [[-0.52528106 -0.19958112]\n",
            " [-0.04612834 -0.43374017]\n",
            " [-2.03524537  0.56015045]\n",
            " [-0.43042553 -0.1224234 ]\n",
            " [ 0.98524228 -0.44313042]\n",
            " [ 1.40186973 -0.74534088]\n",
            " [-1.44075191  0.15927811]\n",
            " [-1.14212888 -0.19215842]\n",
            " [ 0.42448628 -0.86445712]\n",
            " [-0.00892175 -0.71463001]\n",
            " [ 1.2778755  -0.58188648]]\n"
          ]
        },
        {
          "output_type": "display_data",
          "data": {
            "text/plain": [
              "<Figure size 432x288 with 1 Axes>"
            ],
            "image/png": "[encoded data removed]"
          },
          "metadata": {
            "needs_background": "light"
          }
        }
      ]
    }
  ]
}
