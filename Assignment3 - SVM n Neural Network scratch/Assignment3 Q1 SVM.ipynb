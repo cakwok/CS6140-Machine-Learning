{
  "nbformat": 4,
  "nbformat_minor": 0,
  "metadata": {
    "colab": {
      "name": "Assignment3 - Q1 SVM.ipynb",
      "provenance": [],
      "collapsed_sections": [],
      "mount_file_id": "1XiiYAdNFWJS2pG1HFY2Jik7sP3R0NhqO",
      "authorship_tag": "ABX9TyNi7UfC9x9RIA+4kfh2z+/f"
    },
    "kernelspec": {
      "name": "python3",
      "display_name": "Python 3"
    },
    "language_info": {
      "name": "python"
    }
  },
  "cells": [
    {
      "cell_type": "code",
      "execution_count": 81,
      "metadata": {
        "id": "6q0xqTlut9lM"
      },
      "outputs": [],
      "source": [
        "#Q1 Implement SVM from scratch\n",
        "\n",
        "import numpy as np\n",
        "import random\n",
        "import matplotlib.pyplot as plt                                 #To plot scatter plot\n",
        "from scipy.optimize import minimize, LinearConstraint           #For SVM optimization\n",
        "from scipy.optimize import Bounds, BFGS                         #For SVM optimization"
      ]
    },
    {
      "cell_type": "code",
      "source": [
        "#1.1 Generate and visualize data\n",
        "def gen_data():\n",
        "    np.random.seed(105)\n",
        "    Positive = np.concatenate((np.random.randn(10, 2) * 0.4 + [1.5, -0.5],\n",
        "                             np.random.randn(10, 2) * 0.4 + [-1.5, 0.5]))\n",
        "    Negative = np.random.randn(20, 2) * 0.3 + [0.0, -0.9]\n",
        "\n",
        "    return Positive, Negative"
      ],
      "metadata": {
        "id": "_2E9BcNd82xH"
      },
      "execution_count": 82,
      "outputs": []
    },
    {
      "cell_type": "code",
      "source": [
        "#1.2 Plot data\n",
        "def plot_data(Positive, Negative):\n",
        "  x_axis_range = np.linspace(-2.5, 2.5, 20)\n",
        "  plt.scatter(Positive[:, 0], Positive[:, 1], color = \"b\")\n",
        "  plt.scatter(Negative[:, 0], Negative[:, 1], color = \"r\")\n",
        "  print(\"plt.gca()\", plt.gca())"
      ],
      "metadata": {
        "id": "a3vC1sbIwXa8"
      },
      "execution_count": 83,
      "outputs": []
    },
    {
      "cell_type": "code",
      "source": [
        "#1.3 Fit SVM with linear kernel with slack variable\n",
        "def lagrange_dual(alpha, x, y, ZERO):\n",
        "    result = 0\n",
        "    non_zero_alphas = np.where(alpha > ZERO)[0]\n",
        "    for i in non_zero_alphas:\n",
        "        for k in non_zero_alphas:\n",
        "            #result = result + alpha[i]*alpha[k]*y[i]*y[k]*np.dot(x[i, :], x[k, :]) \n",
        "            result = result + alpha[i]*alpha[k]*y[i]*y[k]*linear_kernel(x[i, :], x[k, :])\n",
        "    result = 0.5*result - sum(alpha)     \n",
        "    return result"
      ],
      "metadata": {
        "id": "61Ay0J_TXV4a"
      },
      "execution_count": 84,
      "outputs": []
    },
    {
      "cell_type": "code",
      "source": [
        "def linear_kernel(x, y, **kwargs):\n",
        "    # insert your code here \n",
        "    # return linear kernel output\n",
        "    return np.dot(x, y)"
      ],
      "metadata": {
        "id": "Hds5AdehBq62"
      },
      "execution_count": 85,
      "outputs": []
    },
    {
      "cell_type": "code",
      "source": [
        "def fit(X, Y, ZERO, C=None, kernel=None, kwargs = {}):\n",
        "  \n",
        "    '''\n",
        "    X: input_data (Nx2) numpy array\n",
        "    Y: binary target variable (N,) numpy array\n",
        "    C: The slack variable\n",
        "    kernel: kernel function (linear or polynomial)\n",
        "    kwargs: dictionary of arguments\n",
        "    '''\n",
        "    # insert your code here\n",
        "    # Apply optimization of dual function (Equation 7.10: Bishop)\n",
        "    # make use of minimize()\n",
        "    # \n",
        "    m, n = X.shape\n",
        "    np.random.seed(1)\n",
        "    \n",
        "    alpha_0 = np.random.rand(m)*C                       # Initialize alphas to random values\n",
        "    linear_constraint = LinearConstraint(Y, [0], [0])   # Define the constraint\n",
        "    bounds_alpha = Bounds(np.zeros(m), np.full(m, C))   # Define the bounds\n",
        "\n",
        "    # Find the optimal value of alpha\n",
        "    result = minimize(lagrange_dual, alpha_0, args = (X, Y, ZERO), method='trust-constr', \n",
        "                      hess=BFGS(), constraints=[linear_constraint],\n",
        "                      bounds=bounds_alpha)\n",
        "    \n",
        "    # The optimized value of alpha lies in result.x\n",
        "    alpha = result.x\n",
        "    return alpha\n"
      ],
      "metadata": {
        "id": "oNTe21GZB_qU"
      },
      "execution_count": 86,
      "outputs": []
    },
    {
      "cell_type": "code",
      "source": [
        "#Q1.4 Linear Kernel decision boundary visualization\n",
        "\n",
        "def get_support_vectors(X, Y, lambdas, threshold=10e-5):\n",
        "  # insert your code here\n",
        "  # return support vectors, target variable values of the support vectors, lambdas of support vectoss\n",
        "  # remeber only lambdas >=0 are to be kept\n",
        "  s_vecs =  np.array([]); s_vecs_Y =  np.array([]); s_vecs_lambda =  np.array([])\n",
        "\n",
        "  for x, y, lambda_m in zip (X, Y, lambdas):\n",
        "    if lambda_m > threshold:\n",
        "      s_vecs = np.append(s_vecs, x)\n",
        "      s_vecs_Y = np.append(s_vecs_Y, y)\n",
        "      s_vecs_lambda = np.append(s_vecs_lambda, lambda_m)\n",
        "\n",
        "  return np.reshape(s_vecs, (-1, 2)), s_vecs_Y, s_vecs_lambda     #reshape a flattened s_vecs into shape = 10, 2, otherwise it's 20, 1"
      ],
      "metadata": {
        "id": "arKolSDvCgVq"
      },
      "execution_count": 87,
      "outputs": []
    },
    {
      "cell_type": "code",
      "source": [
        "def predict(test_point, s_vecs, s_vecs_Y, s_vecs_lambda, C, ZERO, kernel, kwargs):\n",
        "  '''\n",
        "  test_point: test datapoint\n",
        "  s_vecs: Support vectors \n",
        "  s_vecs_Y: target values of the Support vectors\n",
        "  s_vec_lambda: Dual variables corresponding to the support vectors\n",
        "  kernel, kwargs: kernel function (linear or polynomial)\n",
        "  '''\n",
        "  # insert your code here\n",
        "  # Apply support vectors to predict the class of test_point (Equation 7.13: Bishop)\n",
        "\n",
        "  #Calculate w1, w2\n",
        "  number_of_samples = len(s_vecs)\n",
        "  number_of_features = s_vecs.shape[1]\n",
        "\n",
        "  weight = np.zeros(number_of_features)             #Number of features is the number of weights we want to find\n",
        "\n",
        "  for i in range(number_of_samples):\n",
        "    weight = weight + s_vecs_lambda[i] * s_vecs_Y[i] * s_vecs[i, :]\n",
        "\n",
        "  #Calculate w0\n",
        "  constraint = C - ZERO                            #because C cannot equal to lambda, thus we prepare to find lambda < C\n",
        "  support_vendor_count = 0; w0 = 0\n",
        "\n",
        "  for x, y, lambda_m in zip (s_vecs, s_vecs_Y, s_vecs_lambda):\n",
        "    print(\"lambda_m\", lambda_m, \"constraint\", constraint)\n",
        "    if lambda_m > constraint:\n",
        "      w0 = w0 + y - np.dot(x, weight)\n",
        "      support_vendor_count += 1\n",
        "  \n",
        "  print(\"w0\", w0)\n",
        "  print(\"support_vendor_count\", support_vendor_count)\n",
        "  w0 = w0 / support_vendor_count\n",
        "\n",
        "  prediction = np.sum(test_point * weight) + w0\n",
        "  prediction = np.sign(prediction)              #np.sign returns -1, 0, 1, thus manually put 0 into 1 for labelling\n",
        "  if prediction == 0:\n",
        "    prediction = 1\n",
        "  print(\"prediction\", prediction)\n",
        "\n",
        "  return prediction, w0, weight"
      ],
      "metadata": {
        "id": "maJbFuJ3QTDz"
      },
      "execution_count": 88,
      "outputs": []
    },
    {
      "cell_type": "code",
      "source": [
        "def plot_decision_boundary(Positive, Negative,\n",
        "                           ip_new,\n",
        "                           s_vecs, s_vecs_Y, s_vec_lambda,\n",
        "                           w0, weight,\n",
        "                           kernel, kwargs):\n",
        "  '''\n",
        "  Positive, Negative: Example datapoints from both classes\n",
        "  test_point: test data point (2, )\n",
        "  s_vecs: Support vectors\n",
        "  s_vecs_Y: Target variable values for the support vectors\n",
        "  s_vec_lambda: Dual variables corresponding to the support vectors\n",
        "  kernel, kwargs: kernel function (linear or polynomial)\n",
        "  '''\n",
        "  # make use of plt.contour() and plt.scatter()\n",
        "  # plot decision boundary along with margins\n",
        "\n",
        "  #xlim = plt.gca().get_xlim()\n",
        "\n",
        "  #plot hyperplane\n",
        "  x_coord = np.array(plt.gca().get_xlim())    #can use linspace or whatever, the important point is to generate corresponding x of y\n",
        "  y_coord = -w0/weight[1] - weight[0]/weight[1] * x_coord\n",
        "  plt.plot(x_coord, y_coord, color='black')\n",
        "  plot_data(Positive, Negative)\n",
        "\n",
        "  print(\"plt.gca().get_xlim()\", plt.gca().get_xlim())\n",
        "  print(\"x_coord\", x_coord)\n",
        "  print(\"y_coord\", y_coord)\n",
        "\n",
        "  #plot margin\n",
        "  y_positive_margin = 1/weight[1] -w0/weight[1] - weight[0]/weight[1] * x_coord\n",
        "  y_negative_margin = -1/weight[1] -w0/weight[1] - weight[0]/weight[1] * x_coord\n",
        "  plt.plot(x_coord, y_positive_margin, color='blue')\n",
        "  plt.plot(x_coord, y_negative_margin, color='red')\n",
        "\n",
        " \n",
        "  return"
      ],
      "metadata": {
        "id": "fGMp-_1ASi2f"
      },
      "execution_count": 89,
      "outputs": []
    },
    {
      "cell_type": "code",
      "source": [
        "# Test code\n",
        "if __name__ == '__main__':\n",
        "    Positive, Negative = gen_data()\n",
        "    plot_data(Positive, Negative)\n",
        "    \n",
        "    X = np.concatenate((Positive, Negative))\n",
        "    target_data = np.concatenate((np.ones(Positive.shape[0]), -np.ones(Negative.shape[0])))\n",
        "\n",
        "    size = X.shape[0]\n",
        "    shuffle_data = list(range(size))      #range(40) means numbers  0 - 39 are created and listed\n",
        "    random.shuffle(shuffle_data)\n",
        "    X = X[shuffle_data, :]\n",
        "    Y = target_data[shuffle_data]\n",
        "    ZERO = 1e-2\n",
        "    C = 5\n",
        "\n",
        "    lambdas = fit(X, Y, ZERO, C,  kernel=linear_kernel, kwargs={})    # C is slack variable\n",
        "               \n",
        "    # Get the alpha values for the support vectors, as well as their target data.\n",
        "    s_vecs, s_vecs_Y, s_vecs_lambda = get_support_vectors(X, Y, lambdas)\n",
        "    print(f\"{s_vecs.shape[0]} support vectors found.\\\\n\", s_vecs)\n",
        "\n",
        "    print(\"s_vecs_Y\", s_vecs_Y)\n",
        "    print(\"s_vecs_lambda\", s_vecs_lambda)\n",
        "    \n",
        "    # test new data point\n",
        "    ip_new = np.array([-0.6, 0.75])\n",
        "    prediciton, w0, weight = predict(ip_new, s_vecs, s_vecs_Y, s_vecs_lambda, C, ZERO, kernel=linear_kernel, kwargs={})\n",
        "    \n",
        "    plot_decision_boundary(  Positive, Negative,\n",
        "                             ip_new,\n",
        "                             s_vecs,\n",
        "                             s_vecs_Y,\n",
        "                             s_vecs_lambda,\n",
        "                             w0, weight,\n",
        "                             kernel=linear_kernel,\n",
        "                             kwargs={})"
      ],
      "metadata": {
        "colab": {
          "base_uri": "https://localhost:8080/",
          "height": 1000
        },
        "id": "9plmh0ozua0F",
        "outputId": "efd1b1d4-3c44-4476-8c0e-93da022cf2e7"
      },
      "execution_count": 90,
      "outputs": [
        {
          "output_type": "stream",
          "name": "stdout",
          "text": [
            "plt.gca() AxesSubplot(0.125,0.125;0.775x0.755)\n",
            "40 support vectors found.\\n [[-0.10434967 -0.80116922]\n",
            " [ 0.28036696 -1.35396003]\n",
            " [ 1.40186973 -0.74534088]\n",
            " [-0.43042553 -0.1224234 ]\n",
            " [-1.44369968  1.3358034 ]\n",
            " [-0.28625899 -1.15067218]\n",
            " [-0.39561007 -0.93109048]\n",
            " [ 2.18190517  0.52953827]\n",
            " [-0.00892175 -0.71463001]\n",
            " [ 0.42448628 -0.86445712]\n",
            " [-0.04612834 -0.43374017]\n",
            " [-0.20376774 -0.82076316]\n",
            " [ 1.72225459 -0.11974027]\n",
            " [ 0.07742877 -1.14931829]\n",
            " [-1.25314624  0.7644046 ]\n",
            " [-0.6251601  -1.42210023]\n",
            " [ 0.25602264 -1.35327514]\n",
            " [ 0.93775459  0.06812878]\n",
            " [ 1.20929285 -0.47625357]\n",
            " [-0.59376991 -0.84960436]\n",
            " [-1.14212888 -0.19215842]\n",
            " [-0.52528106 -0.19958112]\n",
            " [ 0.58299574 -1.22404863]\n",
            " [-1.247687    0.60864115]\n",
            " [ 1.77592671 -0.62091129]\n",
            " [ 1.90223209 -0.55125585]\n",
            " [-1.44075191  0.15927811]\n",
            " [-0.18664454 -1.2922903 ]\n",
            " [ 1.2778755  -0.58188648]\n",
            " [-0.76590095  1.12063704]\n",
            " [-2.03524537  0.56015045]\n",
            " [ 0.62905985 -0.99111128]\n",
            " [ 0.07112504 -1.01239012]\n",
            " [-1.53690053  1.07849279]\n",
            " [-2.01477484  0.55726986]\n",
            " [ 0.88640301 -0.31171598]\n",
            " [ 0.98524228 -0.44313042]\n",
            " [-0.71154051 -0.54219998]\n",
            " [-0.11132172 -1.48342931]\n",
            " [-2.1300322   0.61799457]]\n",
            "s_vecs_Y [-1. -1.  1. -1.  1. -1. -1.  1. -1. -1. -1. -1.  1. -1.  1. -1. -1.  1.\n",
            "  1. -1.  1. -1. -1.  1.  1.  1.  1. -1.  1.  1.  1. -1. -1.  1.  1.  1.\n",
            "  1. -1. -1.  1.]\n",
            "s_vecs_lambda [2.66921770e-01 1.86261858e-02 4.99128693e+00 4.99807621e+00\n",
            " 6.94314981e-03 9.99999001e-03 1.14687615e-02 3.52645536e-03\n",
            " 3.10965536e+00 1.98683024e+00 4.99764727e+00 1.03452674e-02\n",
            " 2.93086651e-02 2.13463445e-03 8.05817883e-03 9.20379823e-03\n",
            " 8.92950438e-03 6.25272966e-03 2.30526066e-01 3.92135713e-02\n",
            " 4.99748595e+00 4.99813068e+00 8.81100073e-02 2.71011202e-03\n",
            " 1.31668891e-01 5.38117890e-03 4.99368295e+00 5.03404775e-03\n",
            " 2.00122091e+00 5.45243632e-03 9.98168103e-01 1.85283577e-02\n",
            " 1.46593045e-02 6.04624081e-03 4.56957164e-01 1.15621744e-01\n",
            " 2.20076226e+00 6.59614124e-01 1.82326694e-02 8.03016369e-02]\n",
            "lambda_m 0.26692176981136323 constraint 4.99\n",
            "lambda_m 0.01862618582908007 constraint 4.99\n",
            "lambda_m 4.991286931691183 constraint 4.99\n",
            "lambda_m 4.998076207511583 constraint 4.99\n",
            "lambda_m 0.006943149808578681 constraint 4.99\n",
            "lambda_m 0.009999990009065863 constraint 4.99\n",
            "lambda_m 0.01146876154345711 constraint 4.99\n",
            "lambda_m 0.0035264553577944234 constraint 4.99\n",
            "lambda_m 3.1096553647131477 constraint 4.99\n",
            "lambda_m 1.9868302366298638 constraint 4.99\n",
            "lambda_m 4.997647271113645 constraint 4.99\n",
            "lambda_m 0.0103452673515924 constraint 4.99\n",
            "lambda_m 0.02930866510768596 constraint 4.99\n",
            "lambda_m 0.0021346344543403013 constraint 4.99\n",
            "lambda_m 0.0080581788290535 constraint 4.99\n",
            "lambda_m 0.009203798233864248 constraint 4.99\n",
            "lambda_m 0.008929504382094227 constraint 4.99\n",
            "lambda_m 0.0062527296619455655 constraint 4.99\n",
            "lambda_m 0.23052606642368326 constraint 4.99\n",
            "lambda_m 0.03921357126351611 constraint 4.99\n",
            "lambda_m 4.99748594701481 constraint 4.99\n",
            "lambda_m 4.998130680728318 constraint 4.99\n",
            "lambda_m 0.0881100072536127 constraint 4.99\n",
            "lambda_m 0.0027101120181787976 constraint 4.99\n",
            "lambda_m 0.13166889136836216 constraint 4.99\n",
            "lambda_m 0.005381178902995501 constraint 4.99\n",
            "lambda_m 4.993682948399216 constraint 4.99\n",
            "lambda_m 0.0050340477463520885 constraint 4.99\n",
            "lambda_m 2.001220912880065 constraint 4.99\n",
            "lambda_m 0.005452436317956573 constraint 4.99\n",
            "lambda_m 0.9981681034505473 constraint 4.99\n",
            "lambda_m 0.018528357703922856 constraint 4.99\n",
            "lambda_m 0.014659304540052926 constraint 4.99\n",
            "lambda_m 0.006046240805195213 constraint 4.99\n",
            "lambda_m 0.4569571639669718 constraint 4.99\n",
            "lambda_m 0.11562174371179282 constraint 4.99\n",
            "lambda_m 2.200762261331582 constraint 4.99\n",
            "lambda_m 0.6596141237004077 constraint 4.99\n",
            "lambda_m 0.01823266942394573 constraint 4.99\n",
            "lambda_m 0.08030163689562803 constraint 4.99\n",
            "w0 7.134146723853125\n",
            "support_vendor_count 6\n",
            "prediction 1.0\n",
            "plt.gca() AxesSubplot(0.125,0.125;0.775x0.755)\n",
            "plt.gca().get_xlim() (-2.5827856282754578, 2.634658594900717)\n",
            "x_coord [-2.34562907  2.39750204]\n",
            "y_coord [ 0.36547811 -1.12110597]\n"
          ]
        },
        {
          "output_type": "display_data",
          "data": {
            "text/plain": [
              "<Figure size 432x288 with 1 Axes>"
            ],
            "image/png": "[encoded data removed]"
          },
          "metadata": {
            "needs_background": "light"
          }
        }
      ]
    }
  ]
}
