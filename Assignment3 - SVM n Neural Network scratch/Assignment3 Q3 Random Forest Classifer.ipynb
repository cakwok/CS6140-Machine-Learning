{
  "nbformat": 4,
  "nbformat_minor": 0,
  "metadata": {
    "colab": {
      "name": "Assignment3 - Q3.ipynb",
      "provenance": [],
      "collapsed_sections": [],
      "mount_file_id": "1RQoMJKmGPzXPf0iEs6Msv9X_53D_0Csf",
      "authorship_tag": "ABX9TyNM0cHqIWuH6hDmWrtWsfcb"
    },
    "kernelspec": {
      "name": "python3",
      "display_name": "Python 3"
    },
    "language_info": {
      "name": "python"
    }
  },
  "cells": [
    {
      "cell_type": "code",
      "source": [
        "'''\n",
        "CS6140 Assignment 3\n",
        "Wing Man, Kwok\n",
        "7 Jul 2022\n",
        "'''"
      ],
      "metadata": {
        "colab": {
          "base_uri": "https://localhost:8080/",
          "height": 35
        },
        "id": "VOdbFlikSRDC",
        "outputId": "847c030f-00a3-4ae0-a8ae-45a362cbe96b"
      },
      "execution_count": 159,
      "outputs": [
        {
          "output_type": "execute_result",
          "data": {
            "text/plain": [
              "'\\nCS6140 Assignment 3\\nWing Man, Kwok\\n7 Jul 2022\\n'"
            ],
            "application/vnd.google.colaboratory.intrinsic+json": {
              "type": "string"
            }
          },
          "metadata": {},
          "execution_count": 159
        }
      ]
    },
    {
      "cell_type": "code",
      "execution_count": 160,
      "metadata": {
        "id": "yZ6l9VdDSOUG"
      },
      "outputs": [],
      "source": [
        "from sklearn.ensemble import RandomForestClassifier\n",
        "from sklearn.metrics import classification_report, plot_confusion_matrix, ConfusionMatrixDisplay\n",
        "from sklearn.datasets import load_digits                                #load mnist dataset\n",
        "from sklearn.model_selection import train_test_split\n",
        "import pandas as pd\n",
        "from sklearn import metrics                                             #compute accuracy score\n",
        "from sklearn.metrics import precision_score, recall_score, f1_score, accuracy_score, average_precision_score\n",
        "from sklearn.model_selection import RandomizedSearchCV,GridSearchCV\n",
        "import numpy as np\n",
        "from google.colab import drive\n"
      ]
    },
    {
      "cell_type": "code",
      "source": [
        "#Q3.1 Build a random forest classifier and find performance\n",
        "\n",
        "digits = load_digits(as_frame=True)\n",
        "\n",
        "X_train, X_test, y_train, y_test = train_test_split(digits.data, digits.target, test_size = 0.20, random_state = 1)\n",
        "\n",
        "clf = RandomForestClassifier(random_state = 1)\n",
        "clf.fit(X_train, y_train)\n",
        "y_pred = clf.predict(X_test)\n",
        "\n",
        "print(\"ACCURACY OF THE MODEL: \", metrics.accuracy_score(y_test, y_pred), \"\\n\")\n",
        "print(\"Classification Report of Baseline, MNIST Digits:\")\n",
        "print(classification_report(y_test, y_pred))\n",
        "print(\"Confusion Matrix:\")\n",
        "ConfusionMatrixDisplay.from_predictions(y_test, y_pred)"
      ],
      "metadata": {
        "colab": {
          "base_uri": "https://localhost:8080/",
          "height": 661
        },
        "id": "ttiTXOX5UGP9",
        "outputId": "969d1d18-9b5c-4209-9a3e-8667b3e5d4ac"
      },
      "execution_count": 161,
      "outputs": [
        {
          "output_type": "stream",
          "name": "stdout",
          "text": [
            "ACCURACY OF THE MODEL:  0.9833333333333333 \n",
            "\n",
            "Classification Report of Baseline, MNIST Digits:\n",
            "              precision    recall  f1-score   support\n",
            "\n",
            "           0       0.98      0.95      0.96        43\n",
            "           1       1.00      1.00      1.00        35\n",
            "           2       1.00      1.00      1.00        36\n",
            "           3       1.00      0.98      0.99        41\n",
            "           4       0.95      1.00      0.97        38\n",
            "           5       0.97      1.00      0.98        30\n",
            "           6       1.00      1.00      1.00        37\n",
            "           7       1.00      0.97      0.99        37\n",
            "           8       1.00      0.97      0.98        29\n",
            "           9       0.94      0.97      0.96        34\n",
            "\n",
            "    accuracy                           0.98       360\n",
            "   macro avg       0.98      0.98      0.98       360\n",
            "weighted avg       0.98      0.98      0.98       360\n",
            "\n",
            "Confusion Matrix:\n"
          ]
        },
        {
          "output_type": "execute_result",
          "data": {
            "text/plain": [
              "<sklearn.metrics._plot.confusion_matrix.ConfusionMatrixDisplay at 0x7ff5b45cb250>"
            ]
          },
          "metadata": {},
          "execution_count": 161
        },
        {
          "output_type": "display_data",
          "data": {
            "text/plain": [
              "<Figure size 432x288 with 2 Axes>"
            ],
            "image/png": "[encoded data removed]"
          },
          "metadata": {
            "needs_background": "light"
          }
        }
      ]
    },
    {
      "cell_type": "code",
      "source": [
        "#Q3.2 Investigate Random Forest Classifier parameters\n",
        "\n",
        "#---------- investigate random forest classifer parameters\n",
        "#train a classifer with number of nodes of trees\n",
        "clf = RandomForestClassifier(max_leaf_nodes = 3, random_state = 1)\n",
        "clf.fit(X_train, y_train)\n",
        "y_pred = clf.predict(X_test)\n",
        "\n",
        "print(\"clf\", clf)\n",
        "print(clf.get_params())\n",
        "print(\"ACCURACY OF THE MODEL: \", metrics.accuracy_score(y_test, y_pred))\n",
        "print(\"precision\", precision_score(y_test, y_pred, average='weighted'))\n",
        "print('Recall: %.3f' % recall_score(y_test, y_pred, average='weighted'))\n",
        "print(\"f1_score\", f1_score(y_test, y_pred, average='weighted'))\n",
        "'''\n",
        "report = classification_report(y_test, y_pred, output_dict=True)\n",
        "df = pd.DataFrame(report).transpose()\n",
        "print(df)\n",
        "'''\n",
        "print(\"\\n\")\n",
        "\n",
        "#train a classifer with number of trees\n",
        "clf = RandomForestClassifier(n_estimators = 200, random_state = 1)\n",
        "clf.fit(X_train, y_train)\n",
        "y_pred = clf.predict(X_test)\n",
        "\n",
        "print(\"clf\", clf)\n",
        "print(clf.get_params())\n",
        "print(\"ACCURACY OF THE MODEL: \", metrics.accuracy_score(y_test, y_pred))\n",
        "print(\"precision\", precision_score(y_test, y_pred, average='weighted'))\n",
        "print('Recall: %.3f' % recall_score(y_test, y_pred, average='weighted'))\n",
        "print(\"f1_score\", f1_score(y_test, y_pred, average='weighted'))\n",
        "print(\"\\n\")\n",
        "\n",
        "#train a classifer with depth of trees\n",
        "clf = RandomForestClassifier(max_depth = 1, random_state = 1)\n",
        "clf.fit(X_train, y_train)\n",
        "y_pred = clf.predict(X_test)\n",
        "\n",
        "print(\"clf\", clf)\n",
        "print(clf.get_params())\n",
        "print(\"ACCURACY OF THE MODEL: \", metrics.accuracy_score(y_test, y_pred))\n",
        "print(\"precision\", precision_score(y_test, y_pred, average='weighted'))\n",
        "print('Recall: %.3f' % recall_score(y_test, y_pred, average='weighted'))\n",
        "print(\"f1_score\", f1_score(y_test, y_pred, average='weighted'))\n",
        "print(\"\\n\")\n",
        "\n",
        "#train a classifer with min samples to split\n",
        "clf = RandomForestClassifier(min_samples_split = 5, random_state = 1)\n",
        "clf.fit(X_train, y_train)\n",
        "y_pred = clf.predict(X_test)\n",
        "\n",
        "print(\"clf\", clf)\n",
        "print(clf.get_params())\n",
        "print(\"ACCURACY OF THE MODEL: \", metrics.accuracy_score(y_test, y_pred))\n",
        "print(\"precision\", precision_score(y_test, y_pred, average='weighted'))\n",
        "print('Recall: %.3f' % recall_score(y_test, y_pred, average='weighted'))\n",
        "print(\"f1_score\", f1_score(y_test, y_pred, average='weighted'))\n",
        "print(\"\\n\")\n",
        "\n",
        "#train a classifer with min samples in leaf\n",
        "clf = RandomForestClassifier(min_samples_leaf = 5, random_state = 1)\n",
        "clf.fit(X_train, y_train)\n",
        "y_pred = clf.predict(X_test)\n",
        "\n",
        "print(\"clf\", clf)\n",
        "print(clf.get_params())\n",
        "print(\"ACCURACY OF THE MODEL: \", metrics.accuracy_score(y_test, y_pred))\n",
        "print(\"precision\", precision_score(y_test, y_pred, average='weighted'))\n",
        "print('Recall: %.3f' % recall_score(y_test, y_pred, average='weighted'))\n",
        "print(\"f1_score\", f1_score(y_test, y_pred, average='weighted'))\n",
        "print(\"\\n\")"
      ],
      "metadata": {
        "colab": {
          "base_uri": "https://localhost:8080/"
        },
        "cellView": "code",
        "id": "QsSJlXyTo2p3",
        "outputId": "6e875caa-c0c9-4151-acc2-8c40f892a092"
      },
      "execution_count": 162,
      "outputs": [
        {
          "output_type": "stream",
          "name": "stdout",
          "text": [
            "clf RandomForestClassifier(max_leaf_nodes=3, random_state=1)\n",
            "{'bootstrap': True, 'ccp_alpha': 0.0, 'class_weight': None, 'criterion': 'gini', 'max_depth': None, 'max_features': 'auto', 'max_leaf_nodes': 3, 'max_samples': None, 'min_impurity_decrease': 0.0, 'min_samples_leaf': 1, 'min_samples_split': 2, 'min_weight_fraction_leaf': 0.0, 'n_estimators': 100, 'n_jobs': None, 'oob_score': False, 'random_state': 1, 'verbose': 0, 'warm_start': False}\n",
            "ACCURACY OF THE MODEL:  0.8166666666666667\n",
            "precision 0.8207157086672393\n",
            "Recall: 0.817\n",
            "f1_score 0.8086788362941011\n",
            "\n",
            "\n",
            "clf RandomForestClassifier(n_estimators=200, random_state=1)\n",
            "{'bootstrap': True, 'ccp_alpha': 0.0, 'class_weight': None, 'criterion': 'gini', 'max_depth': None, 'max_features': 'auto', 'max_leaf_nodes': None, 'max_samples': None, 'min_impurity_decrease': 0.0, 'min_samples_leaf': 1, 'min_samples_split': 2, 'min_weight_fraction_leaf': 0.0, 'n_estimators': 200, 'n_jobs': None, 'oob_score': False, 'random_state': 1, 'verbose': 0, 'warm_start': False}\n",
            "ACCURACY OF THE MODEL:  0.9861111111111112\n",
            "precision 0.9864306720758335\n",
            "Recall: 0.986\n",
            "f1_score 0.9861597912520109\n",
            "\n",
            "\n",
            "clf RandomForestClassifier(max_depth=1, random_state=1)\n",
            "{'bootstrap': True, 'ccp_alpha': 0.0, 'class_weight': None, 'criterion': 'gini', 'max_depth': 1, 'max_features': 'auto', 'max_leaf_nodes': None, 'max_samples': None, 'min_impurity_decrease': 0.0, 'min_samples_leaf': 1, 'min_samples_split': 2, 'min_weight_fraction_leaf': 0.0, 'n_estimators': 100, 'n_jobs': None, 'oob_score': False, 'random_state': 1, 'verbose': 0, 'warm_start': False}\n",
            "ACCURACY OF THE MODEL:  0.7694444444444445\n",
            "precision 0.7834549023069252\n",
            "Recall: 0.769\n",
            "f1_score 0.7614687682198631\n",
            "\n",
            "\n",
            "clf RandomForestClassifier(min_samples_split=5, random_state=1)\n",
            "{'bootstrap': True, 'ccp_alpha': 0.0, 'class_weight': None, 'criterion': 'gini', 'max_depth': None, 'max_features': 'auto', 'max_leaf_nodes': None, 'max_samples': None, 'min_impurity_decrease': 0.0, 'min_samples_leaf': 1, 'min_samples_split': 5, 'min_weight_fraction_leaf': 0.0, 'n_estimators': 100, 'n_jobs': None, 'oob_score': False, 'random_state': 1, 'verbose': 0, 'warm_start': False}\n",
            "ACCURACY OF THE MODEL:  0.9805555555555555\n",
            "precision 0.9813859020310634\n",
            "Recall: 0.981\n",
            "f1_score 0.9806536715700482\n",
            "\n",
            "\n",
            "clf RandomForestClassifier(min_samples_leaf=5, random_state=1)\n",
            "{'bootstrap': True, 'ccp_alpha': 0.0, 'class_weight': None, 'criterion': 'gini', 'max_depth': None, 'max_features': 'auto', 'max_leaf_nodes': None, 'max_samples': None, 'min_impurity_decrease': 0.0, 'min_samples_leaf': 5, 'min_samples_split': 2, 'min_weight_fraction_leaf': 0.0, 'n_estimators': 100, 'n_jobs': None, 'oob_score': False, 'random_state': 1, 'verbose': 0, 'warm_start': False}\n",
            "ACCURACY OF THE MODEL:  0.9638888888888889\n",
            "precision 0.9658291895134\n",
            "Recall: 0.964\n",
            "f1_score 0.9643645729447865\n",
            "\n",
            "\n"
          ]
        }
      ]
    },
    {
      "cell_type": "code",
      "source": [
        "# ----------- Create a dataframe with the performance results\n",
        "\n",
        "#drive.mount('/content/drive')\n",
        "df = pd.read_csv(\"/content/drive/MyDrive/Colab Notebooks/CS6140 Assignment3/assignment3 q3 performance matrix.csv\")\n",
        "\n",
        "def assign_category(row):\n",
        "    if 0 < row < 0.6:\n",
        "        result = \"D\"\n",
        "    elif 0.6 < row < 0.7:\n",
        "        result = \"C\"\n",
        "    elif 0.7 < row < 0.8:\n",
        "        result = \"B\"\n",
        "    elif 0.8 < row < 0.9:\n",
        "        result = \"A\"\n",
        "    else:\n",
        "        result = \"A+\"\n",
        "    return result\n",
        "\n",
        "df[\"category\"] = df[\"accuracy\"].apply(assign_category)\n",
        "\n",
        "print(df)"
      ],
      "metadata": {
        "colab": {
          "base_uri": "https://localhost:8080/"
        },
        "id": "KtOISOUYbMPU",
        "outputId": "32316e6d-25a9-4cbf-ca90-e01ca15eda41"
      },
      "execution_count": 163,
      "outputs": [
        {
          "output_type": "stream",
          "name": "stdout",
          "text": [
            "  max leaf node  n estimator max depth  min samples split  min samples leaf  \\\n",
            "0             3          100      none                  2                 1   \n",
            "1          none          200      none                  2                 1   \n",
            "2          none          100         1                  2                 1   \n",
            "3          none          100      none                  5                 1   \n",
            "4          none          100      none                  2                 5   \n",
            "\n",
            "   accuracy  precision  recall  f1_score category  \n",
            "0     0.812      0.820   0.817  0.808679        A  \n",
            "1     0.986      0.986   0.986  0.986000       A+  \n",
            "2     0.769      0.783   0.769  0.761000        B  \n",
            "3     0.980      0.980   0.980  0.980000       A+  \n",
            "4     0.960      0.970   0.960  0.960000       A+  \n"
          ]
        }
      ]
    },
    {
      "cell_type": "code",
      "source": [
        "#Q3.3 \n",
        "#---------------- Fine tune parameters using randomized search and grid search\n",
        "\n",
        "# The paramater values are only suggestive. You can come up with better choices.\n",
        "# Number of trees in random forest\n",
        "n_estimators = [int(x) for x in np.linspace(start = 100, stop = 1000, num = 5)]\n",
        "# Number of features to consider at every split\n",
        "max_features = ['auto', 'sqrt','log2']\n",
        "# Maximum number of levels in tree\n",
        "max_depth = [int(x) for x in np.linspace(10, 1000,10)]\n",
        "# Minimum number of samples required to split a node\n",
        "min_samples_split = [2, 5, 8, 11, 14]\n",
        "# Minimum number of samples required at each leaf node\n",
        "min_samples_leaf = [1, 2, 4, 6, 8]\n",
        "\n",
        "# Create the random grid\n",
        "random_grid = {'n_estimators': n_estimators,\n",
        "               'max_features': max_features,\n",
        "               'max_depth': max_depth,\n",
        "               'min_samples_split': min_samples_split,\n",
        "               'min_samples_leaf': min_samples_leaf,\n",
        "              }\n",
        "\n",
        "print(random_grid)\n",
        "\n",
        "#Fine tune a classifer with number of nodes of trees using randomized search\n",
        "clf = RandomForestClassifier(random_state = 1)\n",
        "clf_random = RandomizedSearchCV(estimator = clf, param_distributions = random_grid, n_iter = 100, cv = 10, verbose=2, random_state=1, n_jobs = -1)\n",
        "\n",
        "clf_random.fit(X_train, y_train)\n",
        "y_pred = clf_random.predict(X_test)\n",
        "\n",
        "print(\"clf\", clf)\n",
        "print(clf.get_params())\n",
        "print(\"ACCURACY OF THE MODEL: \", metrics.accuracy_score(y_test, y_pred))\n",
        "print(\"precision\", precision_score(y_test, y_pred, average='weighted'))\n",
        "print('Recall: %.3f' % recall_score(y_test, y_pred, average='weighted'))\n",
        "print(\"f1_score\", f1_score(y_test, y_pred, average='weighted'))\n",
        "\n",
        "print(clf_random.best_params_)\n",
        "\n",
        "#Fine tune a classifer with number of nodes of trees using grid search\n",
        "'''\n",
        "param_grid = {\n",
        "    'max_depth': [680, 780, 880],\n",
        "    'max_features': [2, 3, 4],\n",
        "    'min_samples_leaf': [1.0, 2.0, 3.0],\n",
        "    'min_samples_split': [1.0, 2.0, 3.0],\n",
        "    'n_estimators': [900, 1000, 1100]\n",
        "}\n",
        "'''\n",
        "param_grid = {\n",
        "    'max_depth': [680, 780],\n",
        "    'max_features': [2, 3],\n",
        "    'min_samples_leaf': [1.0, 2.0],\n",
        "    'min_samples_split': [1.0, 2.0],\n",
        "    'n_estimators': [900, 1000]\n",
        "}\n",
        "\n",
        "clf = RandomForestClassifier(random_state = 1)\n",
        "\n",
        "grid_search = GridSearchCV(estimator = clf, param_grid = param_grid, \n",
        "                          cv = 10, n_jobs = -1, verbose = 2)\n",
        "\n",
        "grid_search.fit(X_train, y_train)\n",
        "\n",
        "y_pred = grid_search.predict(X_test)\n",
        "\n",
        "print(grid_search.best_params_)"
      ],
      "metadata": {
        "colab": {
          "base_uri": "https://localhost:8080/"
        },
        "id": "To7cq-gwZq2l",
        "outputId": "5cea6781-e378-4682-a334-362e65cd4f8e"
      },
      "execution_count": null,
      "outputs": [
        {
          "output_type": "stream",
          "name": "stdout",
          "text": [
            "{'n_estimators': [100, 325, 550, 775, 1000], 'max_features': ['auto', 'sqrt', 'log2'], 'max_depth': [10, 120, 230, 340, 450, 560, 670, 780, 890, 1000], 'min_samples_split': [2, 5, 8, 11, 14], 'min_samples_leaf': [1, 2, 4, 6, 8]}\n",
            "Fitting 10 folds for each of 100 candidates, totalling 1000 fits\n"
          ]
        }
      ]
    },
    {
      "cell_type": "markdown",
      "source": [
        "5.  To measure and analysis if high accuracy is due to overfitting by comparing training dataset accuracy with testing dataset for example.  If accuracy of training dataset is high but testing dataset is low, it means the model is overfit with training dataset and not generalising unseen data well."
      ],
      "metadata": {
        "id": "Fwwhw2CpC2EI"
      }
    }
  ]
}
